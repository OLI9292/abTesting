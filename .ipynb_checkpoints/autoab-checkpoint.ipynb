{
 "cells": [
  {
   "cell_type": "code",
   "execution_count": null,
   "metadata": {
    "ExecuteTime": {
     "end_time": "2016-08-16T15:41:51.085498",
     "start_time": "2016-08-16T15:41:51.080389"
    },
    "collapsed": false,
    "run_control": {
     "frozen": false,
     "read_only": false
    }
   },
   "outputs": [],
   "source": [
    "# script that generates a button to hide all code\n",
    "from IPython.display import HTML\n",
    "\n",
    "HTML('''<script>\n",
    "code_show=true; \n",
    "function code_toggle() {\n",
    " if (code_show){\n",
    " $('div.input').hide();\n",
    " } else {\n",
    " $('div.input').show();\n",
    " }\n",
    " code_show = !code_show\n",
    "} \n",
    "$( document ).ready(code_toggle);\n",
    "</script>\n",
    "<form action=\"javascript:code_toggle()\"><input type=\"submit\" value=\"Toggle Code\"></form>''')"
   ]
  },
  {
   "cell_type": "code",
   "execution_count": null,
   "metadata": {
    "collapsed": true
   },
   "outputs": [],
   "source": [
    "experiment_list = (sql(\"\"\"\n",
    "    SELECT DISTINCT experiment_name\n",
    "    FROM force_production.experiment_viewed\n",
    "    WHERE experiment_name != 'partner_application_copy'\n",
    "    AND experiment_name   != 'masonry_artwork_sort'\n",
    "    AND experiment_name   != 'artwork_item_contact_gallery'\n",
    "\"\"\"))\n"
   ]
  },
  {
   "cell_type": "code",
   "execution_count": 30,
   "metadata": {
    "ExecuteTime": {
     "end_time": "2016-08-17T00:25:15.459175",
     "start_time": "2016-08-17T00:25:15.454446"
    },
    "collapsed": false
   },
   "outputs": [
    {
     "data": {
      "text/plain": [
       "u'redesigned_artwork_page'"
      ]
     },
     "execution_count": 30,
     "metadata": {},
     "output_type": "execute_result"
    }
   ],
   "source": [
    "experiment_list.experiment_name[0]"
   ]
  },
  {
   "cell_type": "code",
   "execution_count": null,
   "metadata": {
    "collapsed": true
   },
   "outputs": [],
   "source": []
  },
  {
   "cell_type": "code",
   "execution_count": null,
   "metadata": {
    "collapsed": true
   },
   "outputs": [],
   "source": []
  },
  {
   "cell_type": "code",
   "execution_count": 31,
   "metadata": {
    "ExecuteTime": {
     "end_time": "2016-08-17T11:00:53.678842",
     "start_time": "2016-08-17T11:00:48.502763"
    },
    "code_folding": [
     171
    ],
    "collapsed": false,
    "run_control": {
     "frozen": false,
     "read_only": false
    }
   },
   "outputs": [],
   "source": [
    "import os \n",
    "import warnings\n",
    "warnings.simplefilter(action = \"ignore\", category = UserWarning)\n",
    "\n",
    "import numpy as np\n",
    "import pandas as pd\n",
    "import matplotlib.pyplot as plt\n",
    "from datetime import date, timedelta\n",
    "%matplotlib inline\n",
    "\n",
    "import pymc as pm\n",
    "\n",
    "from sqlalchemy import create_engine\n",
    "engine_string = os.environ['REDSHIFT_CONN']\n",
    "engine = create_engine(engine_string)\n",
    "\n",
    "pd.options.display.max_columns=100\n",
    "pd.options.mode.chained_assignment = None\n",
    "\n",
    "#################################\n",
    "\n",
    "# Displays a list of experiments to choose from, not that the first 3 we have logged are removed\n",
    "# due to our mapped_experiments table not starting to build until May 10th. Before this,\n",
    "# we were generating too many experiment events.\n",
    "\n",
    "def sql(query):\n",
    "    return pd.read_sql(\"%s\" %query, engine)\n",
    "\n",
    "# list of experiments in database\n",
    "experiment_list = (sql(\"\"\"\n",
    "    SELECT DISTINCT experiment_name\n",
    "    FROM force_production.experiment_viewed\n",
    "    WHERE experiment_name != 'partner_application_copy'\n",
    "    AND experiment_name   != 'masonry_artwork_sort'\n",
    "    AND experiment_name   != 'artwork_item_contact_gallery'\n",
    "\"\"\"))\n",
    "\n",
    "# Variations; this is necessary because of of the inconsistencies in the experiments table for variation_name for the default group\n",
    "defaults = ['default', 'original',\n",
    "            'old_homepage_1', 'old_homepage_2', 'old_homepage_3', 'old_homepage_4', 'old_homepage_5']\n",
    "\n",
    "def query_experiment_data(exp_name, start_date=None, end_date=None):\n",
    "\n",
    "    # pulls the first and last experiment logged\n",
    "    start_end = sql(\"\"\"\n",
    "        SELECT MIN(sent_at),\n",
    "               MAX(sent_at)\n",
    "        FROM force_production.experiment_viewed\n",
    "        WHERE experiment_name = '%s'\n",
    "    \"\"\"%exp_name)\n",
    "\n",
    "    # selects the value from the data frame\n",
    "    first_log_of_exp = start_end.iloc[0]['min']\n",
    "    last_log_of_exp = start_end.iloc[0]['max']\n",
    "    \n",
    "    end_date = end_date if end_date else last_log_of_exp\n",
    "    start_date = start_date if start_date else last_log_of_exp - timedelta(days=1)\n",
    "\n",
    "    # finds the start and end date\n",
    "    print 'start date:                     ', first_log_of_exp\n",
    "    print 'max date:                       ', last_log_of_exp\n",
    "    print '-'*70\n",
    "\n",
    "    # queries the experiment table\n",
    "    exp = sql(\"\"\"\n",
    "        SELECT exp.variation_id,\n",
    "               fins.*,\n",
    "               SPLIT_PART(fins.session_id,' - ',1) as session_number\n",
    "        FROM (SELECT DISTINCT session_id,\n",
    "                     variation_id,\n",
    "                     experiment_id\n",
    "              FROM analytics.force_mapped_experiment_viewed afmev\n",
    "              WHERE afmev.experiment_id = '%s') exp\n",
    "          LEFT JOIN analytics.force_inquiry_funnel_sessions fins\n",
    "                 ON exp.session_id = fins.session_id\n",
    "                AND exp.variation_id is not null\n",
    "        WHERE (session_start_at >= '%s' AND session_start_at <= '%s') LIMIT 5000000\n",
    "    \"\"\"%(exp_name, start_date, end_date))\n",
    "    \n",
    "    print\n",
    "    print \"experiment runs for \" + str(exp.session_start_at.max()-exp.session_start_at.min())\n",
    "    print '-'*70\n",
    "    \n",
    "    exp['date'] = exp.session_start_at.values.astype('datetime64[D]')\n",
    "    exp['session_number'] = exp.session_number.values.astype(int)\n",
    "    exp['outcome'] = (exp.inquiries > 0).astype('int')\n",
    "    exp = exp.set_index('session_start_at').sort_index()\n",
    "    \n",
    "    return exp\n",
    "\n",
    "def control_test_split(exp):\n",
    "    control = exp.loc[exp.variation_id.isin(defaults)]\n",
    "    test = exp.loc[~exp.variation_id.isin(defaults)]\n",
    "\n",
    "    return control, test\n",
    "\n",
    "def generate_metrics(control,test):\n",
    "    control_lvid_positive = len(control.loc[control.inquiries>0].groupby('looker_visitor_id').inquiries.count())\n",
    "    test_lvid_positive    = len(test.loc[test.inquiries>0].groupby('looker_visitor_id').inquiries.count())\n",
    "\n",
    "    metrics = { 'number of uniques:': [control.looker_visitor_id.nunique(), test.looker_visitor_id.nunique()],\n",
    "                'number of sessions': [len(control), len(test)],\n",
    "                'uniques that have inquired': [control_lvid_positive, test_lvid_positive],\n",
    "                'sessions resulting in inquiry': [control.outcome.sum(), test.outcome.sum()],\n",
    "                'total artwork pageviews / uniques': [control.count_artwork_pv.sum()*1./control.looker_visitor_id.nunique(),test.count_artwork_pv.sum()*1./control.looker_visitor_id.nunique()],\n",
    "                'sum of inquiries / # of sessions': [1.*control.inquiries.sum()/control.session_id.nunique(), 1.*test.inquiries.sum()/test.session_id.nunique()],\n",
    "                'sum of inquiries / # of uniques': [1.*control.inquiries.sum() / control.looker_visitor_id.nunique(), 1.*test.inquiries.sum() / test.looker_visitor_id.nunique()],\n",
    "                'avg inquiry rate per unique': [ 1.*int(control.groupby('looker_visitor_id').inquiries.mean().sum())/control.looker_visitor_id.nunique(), 1.*int(test.groupby('looker_visitor_id').inquiries.mean().sum())/test.looker_visitor_id.nunique()]\n",
    "               }\n",
    "\n",
    "    df_metrics = pd.DataFrame(metrics)\n",
    "    cols = df_metrics.columns.tolist()\n",
    "    cols = cols[1:] + cols[0:1]\n",
    "    cols = cols[0:3] + cols[6:7] + cols[3:6] + cols[-1:]\n",
    "    df_metrics = df_metrics[cols]\n",
    "    df_metrics = df_metrics.T\n",
    "    df_metrics.columns = [['control', 'test']]\n",
    "    return df_metrics\n",
    "    print\n",
    "\n",
    "    control_sum = pd.DataFrame(control.ix[:,12:22].sum(), columns=['control'])\n",
    "    test_sum = pd.DataFrame(test.ix[:,12:22].sum(), columns=['test'])\n",
    "    print pd.merge(control_sum,test_sum,left_index=True,right_index=True)\n",
    "    print \n",
    "\n",
    "    metrics = { 'positive LVID outcomes / uniques': [1.*control_lvid_positive/control.looker_visitor_id.nunique(),1.*test_lvid_positive/test.looker_visitor_id.nunique()],\n",
    "                'positive sessions / total sessions': [1.*control.outcome.sum()/control.session_id.nunique(),1.*test.outcome.sum()/test.session_id.nunique()]\n",
    "               }\n",
    "\n",
    "    df_metrics = pd.DataFrame(metrics).T\n",
    "    df_metrics.columns = [['control', 'test']]\n",
    "    print df_metrics\n",
    "    print '-'*70\n",
    "    print\n",
    "\n",
    "def cumulative_plot(test, control):\n",
    "    # plots cumulative metrics from the inquiry_sessions funnel\n",
    "    fig, axes = plt.subplots(nrows=5, ncols=2, figsize=(14,16), sharex=True)\n",
    "    plt.suptitle('Cumulative Metrics', fontsize=30); \n",
    "    # plt.style.use('classic')\n",
    "\n",
    "    test.count_pv.cumsum().plot(ax=axes[0,0], title='pageviews', legend=True, label='test')\n",
    "    control.count_pv.cumsum().plot(ax=axes[0,0], legend=True, label='control')\n",
    "\n",
    "    test.count_artwork_pv.cumsum().plot(ax=axes[0,1], title='artwork pageviews', legend=True, label='test')\n",
    "    control.count_artwork_pv.cumsum().plot(ax=axes[0,1], legend=True, label='control')\n",
    "\n",
    "    test.count_artist_pv.cumsum().plot(ax=axes[1,0], title='artist pageviews', legend=True, label='test')\n",
    "    control.count_artist_pv.cumsum().plot(ax=axes[1,0], legend=True, label='control')\n",
    "\n",
    "    test.count_article_pv.cumsum().plot(ax=axes[1,1], title='article pageviews', legend=True, label='test')\n",
    "    control.count_article_pv.cumsum().plot(ax=axes[1,1], legend=True, label='control')\n",
    "\n",
    "    test.inquiries.cumsum().plot(ax=axes[2,0], title='inquiries', legend=True, label='test')\n",
    "    control.inquiries.cumsum().plot(ax=axes[2,0], legend=True, label='control')\n",
    "\n",
    "    test.accounts_created.cumsum().plot(ax=axes[2,1], title='accounts created', legend=True, label='test')\n",
    "    control.accounts_created.cumsum().plot(ax=axes[2,1], legend=True, label='control')\n",
    "\n",
    "    test.three_way_handshakes.cumsum().plot(ax=axes[3,0], title='three way handshakes', legend=True, label='test')\n",
    "    control.three_way_handshakes.cumsum().plot(ax=axes[3,0], legend=True, label='control')\n",
    "\n",
    "    test.three_way_handshakes_within_seven_days.cumsum().plot(ax=axes[3,1], title='three way handshakes within 7 days', legend=True, label='test')\n",
    "    control.three_way_handshakes_within_seven_days.cumsum().plot(ax=axes[3,1], legend=True, label='control')\n",
    "\n",
    "    test.purchases.cumsum().plot(ax=axes[4,0], title='purchases', legend=True, label='test')\n",
    "    control.purchases.cumsum().plot(ax=axes[4,0], legend=True, label='control')\n",
    "\n",
    "    test.total_purchase_price.cumsum().plot(ax=axes[4,1], title='total purchase price', legend=True, label='test')\n",
    "    control.total_purchase_price.cumsum().plot(ax=axes[4,1], legend=True, label='control')\n",
    "    \n",
    "def daily_plot(test,control):\n",
    "    fig, axes = plt.subplots(nrows=5, ncols=2, figsize=(12,14), sharex=True)\n",
    "    plt.suptitle('Daily Metrics', fontsize=30); \n",
    "\n",
    "    test.groupby('date')['count_pv'].sum().plot(kind='line', ax=axes[0,0], title='pageviews', legend=True, label='test', color='red')\n",
    "    control.groupby('date')['count_pv'].sum().plot(kind='line', ax=axes[0,0], legend=True, label='control', color='steelblue')\n",
    "\n",
    "    test.groupby('date')['count_artwork_pv'].sum().plot(kind='line', ax=axes[0,1], title='artwork pageviews', legend=True, label='test', color='red')\n",
    "    control.groupby('date')['count_artwork_pv'].sum().plot(kind='line', ax=axes[0,1], legend=True, label='control', color='steelblue')\n",
    "\n",
    "    test.groupby('date')['count_artist_pv'].sum().plot(kind='line', ax=axes[1,0], title='artist pageviews', legend=True, label='test', color='red')\n",
    "    control.groupby('date')['count_artist_pv'].sum().plot(kind='line', ax=axes[1,0], legend=True, label='control', color='steelblue')\n",
    "\n",
    "    test.groupby('date')['count_article_pv'].sum().plot(kind='line', ax=axes[1,1], title='article pageviews', legend=True, label='test', color='red')\n",
    "    control.groupby('date')['count_article_pv'].sum().plot(kind='line', ax=axes[1,1], legend=True, label='control', color='steelblue')\n",
    "\n",
    "    test.groupby('date')['inquiries'].sum().plot(kind='line',ax=axes[2,0], title='inquiries', legend=True, label='test', color='red')\n",
    "    control.groupby('date')['inquiries'].sum().plot(kind='line',ax=axes[2,0], legend=True, label='control', color='steelblue')\n",
    "\n",
    "    test.groupby('date')['accounts_created'].sum().plot(kind='line', ax=axes[2,1], title='accounts created', legend=True, label='test', color='red')\n",
    "    control.groupby('date')['accounts_created'].sum().plot(kind='line', ax=axes[2,1], legend=True, label='control', color='steelblue')\n",
    "\n",
    "    test.groupby('date')['three_way_handshakes'].sum().plot(kind='line', ax=axes[3,0], title='three way handshakes', legend=True, label='test', color='red')\n",
    "    control.groupby('date')['three_way_handshakes'].sum().plot(kind='line', ax=axes[3,0], legend=True, label='control', color='steelblue')\n",
    "\n",
    "    test.groupby('date')['three_way_handshakes_within_seven_days'].sum().plot(kind='line', ax=axes[3,1], title='three way handshakes within 7 days', legend=True, label='test', color='red')\n",
    "    control.groupby('date')['three_way_handshakes_within_seven_days'].sum().plot(kind='line', ax=axes[3,1], legend=True, label='control', color='steelblue')\n",
    "\n",
    "    test.groupby('date')['purchases'].sum().plot(kind='line', ax=axes[4,0], title='purchases', legend=True, label='test', color='red')\n",
    "    control.groupby('date')['purchases'].sum().plot(kind='line', ax=axes[4,0], legend=True, label='control', color='steelblue')\n",
    "\n",
    "    test.groupby('date')['total_purchase_price'].sum().plot(kind='line', ax=axes[4,1], title='total purchase price', legend=True, label='test', color='red')\n",
    "    control.groupby('date')['total_purchase_price'].sum().plot(kind='line', ax=axes[4,1], legend=True, label='control', color='steelblue')\n",
    "\n",
    "def credible_intervals(control, test):\n",
    "\n",
    "    # Bayesian approach to show the probability of the control being better or worse than the test\n",
    "    # This looks at whether or not a user placed an inquiry - this avoids bias in people that send more inquiries\n",
    "\n",
    "    first_inquiry_control = pd.DataFrame(control.loc[control.outcome ==1].\n",
    "                                         groupby(['looker_visitor_id']).date.min().reset_index())\n",
    "    first_inquiry_test = pd.DataFrame(test.loc[test.outcome ==1].\n",
    "                                         groupby(['looker_visitor_id']).date.min().reset_index())\n",
    "    first_inqs_per_day_control = first_inquiry_control.groupby('date').count()\n",
    "    first_inqs_per_day_test = first_inquiry_test.groupby('date').count()\n",
    "\n",
    "    # cumulative list of inquiries per day; only using the first inquiry from a given Looker Visitor ID\n",
    "    inq_A = first_inqs_per_day_control.cumsum().looker_visitor_id.tolist()\n",
    "    inq_B = first_inqs_per_day_test.cumsum().looker_visitor_id.tolist()\n",
    "\n",
    "    # cumulative list of unique Looker Visitor IDs per day; only using the first observed instance\n",
    "    control_A = pd.DataFrame(control.\n",
    "                             groupby('looker_visitor_id').date.min().reset_index()).groupby('date')['looker_visitor_id'].count().cumsum().tolist()\n",
    "    test_B = pd.DataFrame(test.\n",
    "                          groupby('looker_visitor_id').date.min().reset_index()).groupby('date')['looker_visitor_id'].count().cumsum().tolist()\n",
    "\n",
    "    #containers for HPD intervals\n",
    "    hpds_A = []\n",
    "    hpds_B = []\n",
    "\n",
    "    # print '-'*30 + 'HPD intervals' + '-'*30\n",
    "\n",
    "    # runs MCMC for each day the test is running; control_A has a value for each day in the test\n",
    "    for i in range(0,len(control_A)):\n",
    "\n",
    "    # assign distributions to my prior beliefs of p_A and p_B, the unknown, true conversion rates.\n",
    "    # Assume uniform distribution (no prior knowledge of what p_A and 'p_B' are).\n",
    "        p_A = pm.Uniform('p_A', lower=0, upper=1)\n",
    "        p_B = pm.Uniform('p_B', lower=0, upper=1)\n",
    "\n",
    "        # Since estimating the difference in true conversion rates, define a variable delta, which equals p_B - p_A.\n",
    "        @pm.deterministic\n",
    "        def delta(p_A=p_A, p_B=p_B):\n",
    "            return p_B - p_A\n",
    "\n",
    "    # To format this data for the analysis, create array with 1s representing inquiries and 0s representing no inquiries\n",
    "    # np.r_ translates slice objects to concatenation along the first axis and allows us to build arrays quickly\n",
    "    # If the index expression contains comma separated arrays, then stack them along their first axis.\n",
    "    # If the index expression contains slice notation or scalars then create a 1-D array with a range indicated by the slice notation.\n",
    "\n",
    "        data_A = np.r_[[0] * (control_A[i]- inq_A[i]), [1] * inq_A[i]]\n",
    "        data_B = np.r_[[0] * (test_B[i] - inq_B[i]), [1] * inq_B[i]]\n",
    "\n",
    "    # Add the observed data to PyMC variables and run MCMC for inference\n",
    "        obs_A = pm.Bernoulli(\"obs_A\", p_A, value = data_A, observed = True)\n",
    "        obs_B = pm.Bernoulli(\"obs_B\", p_B, value = data_B, observed = True)\n",
    "\n",
    "        mcmc = pm.MCMC([p_A, p_B, delta, obs_A, obs_B])\n",
    "        mcmc.sample(25000, 5000)\n",
    "\n",
    "        p_A_samples = mcmc.trace(\"p_A\")[:]\n",
    "        p_B_samples = mcmc.trace(\"p_B\")[:]\n",
    "        delta_samples = mcmc.trace(\"delta\")[:]\n",
    "\n",
    "    # get HPD intervals\n",
    "        hpd_A = pm.utils.hpd(p_A_samples, 1.-0.95)\n",
    "        hpd_B = pm.utils.hpd(p_B_samples, 1.-0.95)\n",
    "\n",
    "        hpds_A.append(hpd_A)\n",
    "        hpds_B.append(hpd_B)\n",
    "        print\n",
    "\n",
    "    dfA = pd.DataFrame(hpds_A)\n",
    "    dfB = pd.DataFrame(hpds_B)\n",
    "\n",
    "    print\n",
    "    # A 100(1-alpha)% HPD (highest posterior density) interval is a region that satisfies the following two conditions:\n",
    "    #  1. The posterior probability of that region is 100(1-alpha)%.\n",
    "    #  2. The minimum density of any point within that region is equal to or larger than the density of any point outside that region.\n",
    "\n",
    "    # alpha is the tightness of the interval; the amount of probabilty mass excluded from the interval\n",
    "    print mcmc.summary()\n",
    "\n",
    "    fig, axes = plt.subplots(nrows=1, ncols=1, figsize=(14,8), sharex=True)\n",
    "\n",
    "    plt.fill_between(dfA.index, dfA[0], dfA[1], alpha=0.2, color='b')\n",
    "    plt.fill_between(dfB.index, dfB[0], dfB[1], alpha=0.2, color='r')\n",
    "    \n",
    "    return p_A_samples, p_B_samples, delta_samples\n",
    "    \n",
    "def compare_posterior_distributions(p_A_samples, p_B_samples, delta_samples):\n",
    "    from IPython.core.pylabtools import figsize\n",
    "\n",
    "    figsize(12.5, 10)\n",
    "\n",
    "    ax = plt.subplot(311)\n",
    "\n",
    "    plt.xlim(0, p_A_samples.max()+.01)\n",
    "    plt.hist(p_A_samples, histtype='stepfilled', bins=25, alpha=0.5,\n",
    "    label=\"posterior of $p_A$\", color=\"#A60628\", normed=True,\n",
    "    edgecolor= \"none\")\n",
    "    plt.legend(loc=\"upper right\")\n",
    "    plt.title(\"Posterior distributions of $p_A$, $p_B$, and delta unknowns\")\n",
    "\n",
    "    ax = plt.subplot(312)\n",
    "\n",
    "    plt.xlim(0, p_B_samples.max()+.01)\n",
    "    plt.hist(p_B_samples, histtype='stepfilled', bins=25, alpha=0.5,\n",
    "            label=\"posterior of $p_B$\", color=\"#467821\", normed=True,\n",
    "            edgecolor = \"none\")\n",
    "    plt.legend(loc=\"upper right\")\n",
    "\n",
    "    ax = plt.subplot(313)\n",
    "    plt.ylim(0,120)\n",
    "    plt.hist(delta_samples, histtype='stepfilled', bins=50, alpha=0.5,\n",
    "            label=\"posterior of $p_B$ - $p_A$\", color=\"#7A68A6\",normed=True,\n",
    "            edgecolor = \"none\")\n",
    "    plt.legend(loc=\"upper right\")\n",
    "    plt.vlines(0, 0, 120, color=\"black\", alpha = .5)\n",
    "\n",
    "    plt.show()\n",
    "\n",
    "    print \"Probability control is BETTER than test: %.3f\" %(delta_samples < 0).mean()\n",
    "    print \"Probability control is WORSE than test: %.3f\" %(delta_samples > 0).mean()"
   ]
  },
  {
   "cell_type": "code",
   "execution_count": 33,
   "metadata": {
    "ExecuteTime": {
     "end_time": "2016-08-17T11:01:25.515746",
     "start_time": "2016-08-17T11:01:24.017002"
    },
    "collapsed": false
   },
   "outputs": [
    {
     "name": "stdout",
     "output_type": "stream",
     "text": [
      "start date:                      2016-07-15 15:41:08\n",
      "max date:                        2016-08-17 08:42:51\n",
      "----------------------------------------------------------------------\n",
      "\n",
      "experiment runs for nan\n",
      "----------------------------------------------------------------------\n"
     ]
    }
   ],
   "source": [
    "exp = query_experiment_data('personalized_homepage')"
   ]
  },
  {
   "cell_type": "code",
   "execution_count": 34,
   "metadata": {
    "ExecuteTime": {
     "end_time": "2016-08-17T11:01:28.005781",
     "start_time": "2016-08-17T11:01:27.985785"
    },
    "collapsed": false
   },
   "outputs": [
    {
     "data": {
      "text/html": [
       "<div>\n",
       "<table border=\"1\" class=\"dataframe\">\n",
       "  <thead>\n",
       "    <tr style=\"text-align: right;\">\n",
       "      <th></th>\n",
       "      <th>variation_id</th>\n",
       "      <th>session_id</th>\n",
       "      <th>looker_visitor_id</th>\n",
       "      <th>landing_page_path</th>\n",
       "      <th>exit_page_path</th>\n",
       "      <th>first_referrer</th>\n",
       "      <th>first_referrer_source</th>\n",
       "      <th>first_referrer_medium</th>\n",
       "      <th>campaign_name</th>\n",
       "      <th>campaign_content</th>\n",
       "      <th>city</th>\n",
       "      <th>country</th>\n",
       "      <th>count_pv</th>\n",
       "      <th>count_artwork_pv</th>\n",
       "      <th>count_artist_pv</th>\n",
       "      <th>count_article_pv</th>\n",
       "      <th>inquiries</th>\n",
       "      <th>three_way_handshakes</th>\n",
       "      <th>three_way_handshakes_within_seven_days</th>\n",
       "      <th>purchases</th>\n",
       "      <th>total_purchase_price</th>\n",
       "      <th>accounts_created</th>\n",
       "      <th>session_number</th>\n",
       "      <th>date</th>\n",
       "      <th>outcome</th>\n",
       "    </tr>\n",
       "    <tr>\n",
       "      <th>session_start_at</th>\n",
       "      <th></th>\n",
       "      <th></th>\n",
       "      <th></th>\n",
       "      <th></th>\n",
       "      <th></th>\n",
       "      <th></th>\n",
       "      <th></th>\n",
       "      <th></th>\n",
       "      <th></th>\n",
       "      <th></th>\n",
       "      <th></th>\n",
       "      <th></th>\n",
       "      <th></th>\n",
       "      <th></th>\n",
       "      <th></th>\n",
       "      <th></th>\n",
       "      <th></th>\n",
       "      <th></th>\n",
       "      <th></th>\n",
       "      <th></th>\n",
       "      <th></th>\n",
       "      <th></th>\n",
       "      <th></th>\n",
       "      <th></th>\n",
       "      <th></th>\n",
       "    </tr>\n",
       "  </thead>\n",
       "  <tbody>\n",
       "  </tbody>\n",
       "</table>\n",
       "</div>"
      ],
      "text/plain": [
       "Empty DataFrame\n",
       "Columns: [variation_id, session_id, looker_visitor_id, landing_page_path, exit_page_path, first_referrer, first_referrer_source, first_referrer_medium, campaign_name, campaign_content, city, country, count_pv, count_artwork_pv, count_artist_pv, count_article_pv, inquiries, three_way_handshakes, three_way_handshakes_within_seven_days, purchases, total_purchase_price, accounts_created, session_number, date, outcome]\n",
       "Index: []"
      ]
     },
     "execution_count": 34,
     "metadata": {},
     "output_type": "execute_result"
    }
   ],
   "source": [
    "exp"
   ]
  },
  {
   "cell_type": "code",
   "execution_count": 32,
   "metadata": {
    "ExecuteTime": {
     "end_time": "2016-08-17T11:00:56.092131",
     "start_time": "2016-08-17T11:00:54.522977"
    },
    "collapsed": false
   },
   "outputs": [
    {
     "name": "stdout",
     "output_type": "stream",
     "text": [
      "start date:                      2016-07-15 15:41:08\n",
      "max date:                        2016-08-17 08:42:51\n",
      "----------------------------------------------------------------------\n",
      "\n",
      "experiment runs for nan\n",
      "----------------------------------------------------------------------\n"
     ]
    },
    {
     "ename": "ZeroDivisionError",
     "evalue": "float division by zero",
     "output_type": "error",
     "traceback": [
      "\u001b[0;31m---------------------------------------------------------------------------\u001b[0m",
      "\u001b[0;31mZeroDivisionError\u001b[0m                         Traceback (most recent call last)",
      "\u001b[0;32m<ipython-input-32-98e9cd9853ea>\u001b[0m in \u001b[0;36m<module>\u001b[0;34m()\u001b[0m\n\u001b[1;32m      1\u001b[0m \u001b[0mexp\u001b[0m \u001b[0;34m=\u001b[0m \u001b[0mquery_experiment_data\u001b[0m\u001b[0;34m(\u001b[0m\u001b[0;34m'personalized_homepage'\u001b[0m\u001b[0;34m)\u001b[0m\u001b[0;34m\u001b[0m\u001b[0m\n\u001b[1;32m      2\u001b[0m \u001b[0mcontrol\u001b[0m\u001b[0;34m,\u001b[0m \u001b[0mtest\u001b[0m \u001b[0;34m=\u001b[0m \u001b[0mcontrol_test_split\u001b[0m\u001b[0;34m(\u001b[0m\u001b[0mexp\u001b[0m\u001b[0;34m)\u001b[0m\u001b[0;34m\u001b[0m\u001b[0m\n\u001b[0;32m----> 3\u001b[0;31m \u001b[0mex\u001b[0m \u001b[0;34m=\u001b[0m \u001b[0mgenerate_metrics\u001b[0m\u001b[0;34m(\u001b[0m\u001b[0mcontrol\u001b[0m\u001b[0;34m,\u001b[0m \u001b[0mtest\u001b[0m\u001b[0;34m)\u001b[0m\u001b[0;34m\u001b[0m\u001b[0m\n\u001b[0m",
      "\u001b[0;32m<ipython-input-31-a8deea7f74f5>\u001b[0m in \u001b[0;36mgenerate_metrics\u001b[0;34m(control, test)\u001b[0m\n\u001b[1;32m    103\u001b[0m                 \u001b[0;34m'uniques that have inquired'\u001b[0m\u001b[0;34m:\u001b[0m \u001b[0;34m[\u001b[0m\u001b[0mcontrol_lvid_positive\u001b[0m\u001b[0;34m,\u001b[0m \u001b[0mtest_lvid_positive\u001b[0m\u001b[0;34m]\u001b[0m\u001b[0;34m,\u001b[0m\u001b[0;34m\u001b[0m\u001b[0m\n\u001b[1;32m    104\u001b[0m                 \u001b[0;34m'sessions resulting in inquiry'\u001b[0m\u001b[0;34m:\u001b[0m \u001b[0;34m[\u001b[0m\u001b[0mcontrol\u001b[0m\u001b[0;34m.\u001b[0m\u001b[0moutcome\u001b[0m\u001b[0;34m.\u001b[0m\u001b[0msum\u001b[0m\u001b[0;34m(\u001b[0m\u001b[0;34m)\u001b[0m\u001b[0;34m,\u001b[0m \u001b[0mtest\u001b[0m\u001b[0;34m.\u001b[0m\u001b[0moutcome\u001b[0m\u001b[0;34m.\u001b[0m\u001b[0msum\u001b[0m\u001b[0;34m(\u001b[0m\u001b[0;34m)\u001b[0m\u001b[0;34m]\u001b[0m\u001b[0;34m,\u001b[0m\u001b[0;34m\u001b[0m\u001b[0m\n\u001b[0;32m--> 105\u001b[0;31m                 \u001b[0;34m'total artwork pageviews / uniques'\u001b[0m\u001b[0;34m:\u001b[0m \u001b[0;34m[\u001b[0m\u001b[0mcontrol\u001b[0m\u001b[0;34m.\u001b[0m\u001b[0mcount_artwork_pv\u001b[0m\u001b[0;34m.\u001b[0m\u001b[0msum\u001b[0m\u001b[0;34m(\u001b[0m\u001b[0;34m)\u001b[0m\u001b[0;34m*\u001b[0m\u001b[0;36m1.\u001b[0m\u001b[0;34m/\u001b[0m\u001b[0mcontrol\u001b[0m\u001b[0;34m.\u001b[0m\u001b[0mlooker_visitor_id\u001b[0m\u001b[0;34m.\u001b[0m\u001b[0mnunique\u001b[0m\u001b[0;34m(\u001b[0m\u001b[0;34m)\u001b[0m\u001b[0;34m,\u001b[0m\u001b[0mtest\u001b[0m\u001b[0;34m.\u001b[0m\u001b[0mcount_artwork_pv\u001b[0m\u001b[0;34m.\u001b[0m\u001b[0msum\u001b[0m\u001b[0;34m(\u001b[0m\u001b[0;34m)\u001b[0m\u001b[0;34m*\u001b[0m\u001b[0;36m1.\u001b[0m\u001b[0;34m/\u001b[0m\u001b[0mcontrol\u001b[0m\u001b[0;34m.\u001b[0m\u001b[0mlooker_visitor_id\u001b[0m\u001b[0;34m.\u001b[0m\u001b[0mnunique\u001b[0m\u001b[0;34m(\u001b[0m\u001b[0;34m)\u001b[0m\u001b[0;34m]\u001b[0m\u001b[0;34m,\u001b[0m\u001b[0;34m\u001b[0m\u001b[0m\n\u001b[0m\u001b[1;32m    106\u001b[0m                 \u001b[0;34m'sum of inquiries / # of sessions'\u001b[0m\u001b[0;34m:\u001b[0m \u001b[0;34m[\u001b[0m\u001b[0;36m1.\u001b[0m\u001b[0;34m*\u001b[0m\u001b[0mcontrol\u001b[0m\u001b[0;34m.\u001b[0m\u001b[0minquiries\u001b[0m\u001b[0;34m.\u001b[0m\u001b[0msum\u001b[0m\u001b[0;34m(\u001b[0m\u001b[0;34m)\u001b[0m\u001b[0;34m/\u001b[0m\u001b[0mcontrol\u001b[0m\u001b[0;34m.\u001b[0m\u001b[0msession_id\u001b[0m\u001b[0;34m.\u001b[0m\u001b[0mnunique\u001b[0m\u001b[0;34m(\u001b[0m\u001b[0;34m)\u001b[0m\u001b[0;34m,\u001b[0m \u001b[0;36m1.\u001b[0m\u001b[0;34m*\u001b[0m\u001b[0mtest\u001b[0m\u001b[0;34m.\u001b[0m\u001b[0minquiries\u001b[0m\u001b[0;34m.\u001b[0m\u001b[0msum\u001b[0m\u001b[0;34m(\u001b[0m\u001b[0;34m)\u001b[0m\u001b[0;34m/\u001b[0m\u001b[0mtest\u001b[0m\u001b[0;34m.\u001b[0m\u001b[0msession_id\u001b[0m\u001b[0;34m.\u001b[0m\u001b[0mnunique\u001b[0m\u001b[0;34m(\u001b[0m\u001b[0;34m)\u001b[0m\u001b[0;34m]\u001b[0m\u001b[0;34m,\u001b[0m\u001b[0;34m\u001b[0m\u001b[0m\n\u001b[1;32m    107\u001b[0m                 \u001b[0;34m'sum of inquiries / # of uniques'\u001b[0m\u001b[0;34m:\u001b[0m \u001b[0;34m[\u001b[0m\u001b[0;36m1.\u001b[0m\u001b[0;34m*\u001b[0m\u001b[0mcontrol\u001b[0m\u001b[0;34m.\u001b[0m\u001b[0minquiries\u001b[0m\u001b[0;34m.\u001b[0m\u001b[0msum\u001b[0m\u001b[0;34m(\u001b[0m\u001b[0;34m)\u001b[0m \u001b[0;34m/\u001b[0m \u001b[0mcontrol\u001b[0m\u001b[0;34m.\u001b[0m\u001b[0mlooker_visitor_id\u001b[0m\u001b[0;34m.\u001b[0m\u001b[0mnunique\u001b[0m\u001b[0;34m(\u001b[0m\u001b[0;34m)\u001b[0m\u001b[0;34m,\u001b[0m \u001b[0;36m1.\u001b[0m\u001b[0;34m*\u001b[0m\u001b[0mtest\u001b[0m\u001b[0;34m.\u001b[0m\u001b[0minquiries\u001b[0m\u001b[0;34m.\u001b[0m\u001b[0msum\u001b[0m\u001b[0;34m(\u001b[0m\u001b[0;34m)\u001b[0m \u001b[0;34m/\u001b[0m \u001b[0mtest\u001b[0m\u001b[0;34m.\u001b[0m\u001b[0mlooker_visitor_id\u001b[0m\u001b[0;34m.\u001b[0m\u001b[0mnunique\u001b[0m\u001b[0;34m(\u001b[0m\u001b[0;34m)\u001b[0m\u001b[0;34m]\u001b[0m\u001b[0;34m,\u001b[0m\u001b[0;34m\u001b[0m\u001b[0m\n",
      "\u001b[0;31mZeroDivisionError\u001b[0m: float division by zero"
     ]
    }
   ],
   "source": [
    "exp = query_experiment_data('personalized_homepage')\n",
    "control, test = control_test_split(exp)\n",
    "ex = generate_metrics(control, test)"
   ]
  },
  {
   "cell_type": "code",
   "execution_count": 10,
   "metadata": {
    "ExecuteTime": {
     "end_time": "2016-08-17T00:09:04.012182",
     "start_time": "2016-08-17T00:09:04.006363"
    },
    "collapsed": false
   },
   "outputs": [
    {
     "data": {
      "text/plain": [
       "array([[ 68.        ,  73.        ],\n",
       "       [ 68.        ,  73.        ],\n",
       "       [  1.        ,   0.        ],\n",
       "       [  1.        ,   0.        ],\n",
       "       [  0.07352941,   0.        ],\n",
       "       [  0.07352941,   0.        ],\n",
       "       [  0.98529412,   1.11764706],\n",
       "       [  0.07352941,   0.        ]])"
      ]
     },
     "execution_count": 10,
     "metadata": {},
     "output_type": "execute_result"
    }
   ],
   "source": [
    "ex.as_matrix()"
   ]
  },
  {
   "cell_type": "code",
   "execution_count": 26,
   "metadata": {
    "ExecuteTime": {
     "end_time": "2016-08-17T00:14:58.818025",
     "start_time": "2016-08-17T00:14:58.813605"
    },
    "collapsed": true
   },
   "outputs": [],
   "source": [
    "def to_array(df):\n",
    "    arr = []\n",
    "    for i in df.index.values:\n",
    "        row = [i ,df.control[i], df.test[i]]\n",
    "        arr.append(row)\n",
    "    return arr"
   ]
  },
  {
   "cell_type": "code",
   "execution_count": 27,
   "metadata": {
    "ExecuteTime": {
     "end_time": "2016-08-17T00:15:02.305222",
     "start_time": "2016-08-17T00:15:02.301502"
    },
    "collapsed": false
   },
   "outputs": [],
   "source": [
    "x = to_array(ex)"
   ]
  },
  {
   "cell_type": "code",
   "execution_count": 28,
   "metadata": {
    "ExecuteTime": {
     "end_time": "2016-08-17T00:15:03.443415",
     "start_time": "2016-08-17T00:15:03.437157"
    },
    "collapsed": false
   },
   "outputs": [
    {
     "data": {
      "text/plain": [
       "[['number of sessions', 68.0, 73.0],\n",
       " ['number of uniques:', 68.0, 73.0],\n",
       " ['sessions resulting in inquiry', 1.0, 0.0],\n",
       " ['uniques that have inquired', 1.0, 0.0],\n",
       " ['sum of inquiries / # of sessions', 0.073529411764705885, 0.0],\n",
       " ['sum of inquiries / # of uniques', 0.073529411764705885, 0.0],\n",
       " ['total artwork pageviews / uniques',\n",
       "  0.98529411764705888,\n",
       "  1.1176470588235294],\n",
       " ['avg inquiry rate per unique', 0.073529411764705885, 0.0]]"
      ]
     },
     "execution_count": 28,
     "metadata": {},
     "output_type": "execute_result"
    }
   ],
   "source": [
    "x"
   ]
  },
  {
   "cell_type": "code",
   "execution_count": null,
   "metadata": {
    "collapsed": true
   },
   "outputs": [],
   "source": [
    "row = [df.index[i], df.control[i], df.test[i]]\n",
    "        arr.append(row)"
   ]
  },
  {
   "cell_type": "code",
   "execution_count": 14,
   "metadata": {
    "ExecuteTime": {
     "end_time": "2016-08-17T00:12:34.772751",
     "start_time": "2016-08-17T00:12:34.728865"
    },
    "collapsed": false
   },
   "outputs": [
    {
     "ename": "IndexError",
     "evalue": "only integers, slices (`:`), ellipsis (`...`), numpy.newaxis (`None`) and integer or boolean arrays are valid indices",
     "output_type": "error",
     "traceback": [
      "\u001b[0;31m---------------------------------------------------------------------------\u001b[0m",
      "\u001b[0;31mIndexError\u001b[0m                                Traceback (most recent call last)",
      "\u001b[0;32m<ipython-input-14-e817086bc222>\u001b[0m in \u001b[0;36m<module>\u001b[0;34m()\u001b[0m\n\u001b[0;32m----> 1\u001b[0;31m \u001b[0mexx\u001b[0m \u001b[0;34m=\u001b[0m \u001b[0mto_array\u001b[0m\u001b[0;34m(\u001b[0m\u001b[0mex\u001b[0m\u001b[0;34m)\u001b[0m\u001b[0;34m\u001b[0m\u001b[0m\n\u001b[0m",
      "\u001b[0;32m<ipython-input-13-93c49d29fce7>\u001b[0m in \u001b[0;36mto_array\u001b[0;34m(df)\u001b[0m\n\u001b[1;32m      2\u001b[0m     \u001b[0marr\u001b[0m \u001b[0;34m=\u001b[0m \u001b[0;34m[\u001b[0m\u001b[0;34m]\u001b[0m\u001b[0;34m\u001b[0m\u001b[0m\n\u001b[1;32m      3\u001b[0m     \u001b[0;32mfor\u001b[0m \u001b[0mi\u001b[0m \u001b[0;32min\u001b[0m \u001b[0mdf\u001b[0m\u001b[0;34m.\u001b[0m\u001b[0miterrows\u001b[0m\u001b[0;34m(\u001b[0m\u001b[0;34m)\u001b[0m\u001b[0;34m:\u001b[0m\u001b[0;34m\u001b[0m\u001b[0m\n\u001b[0;32m----> 4\u001b[0;31m         \u001b[0mrow\u001b[0m \u001b[0;34m=\u001b[0m \u001b[0;34m[\u001b[0m\u001b[0mdf\u001b[0m\u001b[0;34m.\u001b[0m\u001b[0mindex\u001b[0m\u001b[0;34m[\u001b[0m\u001b[0mi\u001b[0m\u001b[0;34m]\u001b[0m\u001b[0;34m,\u001b[0m \u001b[0mdf\u001b[0m\u001b[0;34m.\u001b[0m\u001b[0mcontrol\u001b[0m\u001b[0;34m[\u001b[0m\u001b[0mi\u001b[0m\u001b[0;34m]\u001b[0m\u001b[0;34m,\u001b[0m \u001b[0mdf\u001b[0m\u001b[0;34m.\u001b[0m\u001b[0mtest\u001b[0m\u001b[0;34m[\u001b[0m\u001b[0mi\u001b[0m\u001b[0;34m]\u001b[0m\u001b[0;34m]\u001b[0m\u001b[0;34m\u001b[0m\u001b[0m\n\u001b[0m\u001b[1;32m      5\u001b[0m         \u001b[0marr\u001b[0m\u001b[0;34m.\u001b[0m\u001b[0mappend\u001b[0m\u001b[0;34m(\u001b[0m\u001b[0mrow\u001b[0m\u001b[0;34m)\u001b[0m\u001b[0;34m\u001b[0m\u001b[0m\n",
      "\u001b[0;32m/Users/oliver/anaconda/lib/python2.7/site-packages/pandas/core/index.pyc\u001b[0m in \u001b[0;36m__getitem__\u001b[0;34m(self, key)\u001b[0m\n\u001b[1;32m   1158\u001b[0m \u001b[0;34m\u001b[0m\u001b[0m\n\u001b[1;32m   1159\u001b[0m         \u001b[0mkey\u001b[0m \u001b[0;34m=\u001b[0m \u001b[0m_values_from_object\u001b[0m\u001b[0;34m(\u001b[0m\u001b[0mkey\u001b[0m\u001b[0;34m)\u001b[0m\u001b[0;34m\u001b[0m\u001b[0m\n\u001b[0;32m-> 1160\u001b[0;31m         \u001b[0mresult\u001b[0m \u001b[0;34m=\u001b[0m \u001b[0mgetitem\u001b[0m\u001b[0;34m(\u001b[0m\u001b[0mkey\u001b[0m\u001b[0;34m)\u001b[0m\u001b[0;34m\u001b[0m\u001b[0m\n\u001b[0m\u001b[1;32m   1161\u001b[0m         \u001b[0;32mif\u001b[0m \u001b[0;32mnot\u001b[0m \u001b[0mnp\u001b[0m\u001b[0;34m.\u001b[0m\u001b[0misscalar\u001b[0m\u001b[0;34m(\u001b[0m\u001b[0mresult\u001b[0m\u001b[0;34m)\u001b[0m\u001b[0;34m:\u001b[0m\u001b[0;34m\u001b[0m\u001b[0m\n\u001b[1;32m   1162\u001b[0m             \u001b[0;32mreturn\u001b[0m \u001b[0mpromote\u001b[0m\u001b[0;34m(\u001b[0m\u001b[0mresult\u001b[0m\u001b[0;34m)\u001b[0m\u001b[0;34m\u001b[0m\u001b[0m\n",
      "\u001b[0;31mIndexError\u001b[0m: only integers, slices (`:`), ellipsis (`...`), numpy.newaxis (`None`) and integer or boolean arrays are valid indices"
     ]
    }
   ],
   "source": [
    "exx = to_array(ex)"
   ]
  },
  {
   "cell_type": "code",
   "execution_count": 11,
   "metadata": {
    "ExecuteTime": {
     "end_time": "2016-08-17T00:09:08.488569",
     "start_time": "2016-08-17T00:09:08.477819"
    },
    "collapsed": false
   },
   "outputs": [
    {
     "data": {
      "text/html": [
       "<div>\n",
       "<table border=\"1\" class=\"dataframe\">\n",
       "  <thead>\n",
       "    <tr style=\"text-align: right;\">\n",
       "      <th></th>\n",
       "      <th>control</th>\n",
       "      <th>test</th>\n",
       "    </tr>\n",
       "  </thead>\n",
       "  <tbody>\n",
       "    <tr>\n",
       "      <th>number of sessions</th>\n",
       "      <td>68.000000</td>\n",
       "      <td>73.000000</td>\n",
       "    </tr>\n",
       "    <tr>\n",
       "      <th>number of uniques:</th>\n",
       "      <td>68.000000</td>\n",
       "      <td>73.000000</td>\n",
       "    </tr>\n",
       "    <tr>\n",
       "      <th>sessions resulting in inquiry</th>\n",
       "      <td>1.000000</td>\n",
       "      <td>0.000000</td>\n",
       "    </tr>\n",
       "    <tr>\n",
       "      <th>uniques that have inquired</th>\n",
       "      <td>1.000000</td>\n",
       "      <td>0.000000</td>\n",
       "    </tr>\n",
       "    <tr>\n",
       "      <th>sum of inquiries / # of sessions</th>\n",
       "      <td>0.073529</td>\n",
       "      <td>0.000000</td>\n",
       "    </tr>\n",
       "    <tr>\n",
       "      <th>sum of inquiries / # of uniques</th>\n",
       "      <td>0.073529</td>\n",
       "      <td>0.000000</td>\n",
       "    </tr>\n",
       "    <tr>\n",
       "      <th>total artwork pageviews / uniques</th>\n",
       "      <td>0.985294</td>\n",
       "      <td>1.117647</td>\n",
       "    </tr>\n",
       "    <tr>\n",
       "      <th>avg inquiry rate per unique</th>\n",
       "      <td>0.073529</td>\n",
       "      <td>0.000000</td>\n",
       "    </tr>\n",
       "  </tbody>\n",
       "</table>\n",
       "</div>"
      ],
      "text/plain": [
       "                                     control       test\n",
       "number of sessions                 68.000000  73.000000\n",
       "number of uniques:                 68.000000  73.000000\n",
       "sessions resulting in inquiry       1.000000   0.000000\n",
       "uniques that have inquired          1.000000   0.000000\n",
       "sum of inquiries / # of sessions    0.073529   0.000000\n",
       "sum of inquiries / # of uniques     0.073529   0.000000\n",
       "total artwork pageviews / uniques   0.985294   1.117647\n",
       "avg inquiry rate per unique         0.073529   0.000000"
      ]
     },
     "execution_count": 11,
     "metadata": {},
     "output_type": "execute_result"
    }
   ],
   "source": [
    "ex"
   ]
  },
  {
   "cell_type": "code",
   "execution_count": null,
   "metadata": {
    "collapsed": true
   },
   "outputs": [],
   "source": []
  },
  {
   "cell_type": "code",
   "execution_count": null,
   "metadata": {
    "collapsed": true
   },
   "outputs": [],
   "source": []
  },
  {
   "cell_type": "code",
   "execution_count": null,
   "metadata": {
    "collapsed": true
   },
   "outputs": [],
   "source": []
  },
  {
   "cell_type": "code",
   "execution_count": null,
   "metadata": {
    "collapsed": true
   },
   "outputs": [],
   "source": []
  },
  {
   "cell_type": "code",
   "execution_count": null,
   "metadata": {
    "collapsed": true
   },
   "outputs": [],
   "source": []
  },
  {
   "cell_type": "code",
   "execution_count": null,
   "metadata": {
    "ExecuteTime": {
     "end_time": "2016-08-16T15:52:11.974159",
     "start_time": "2016-08-16T15:51:38.200828"
    },
    "collapsed": false,
    "run_control": {
     "frozen": false,
     "marked": false,
     "read_only": false
    },
    "scrolled": false
   },
   "outputs": [],
   "source": [
    "print experiment_list\n",
    "print \n",
    "\n",
    "# input for experiment name\n",
    "exp_name = raw_input(\"type in an experiment name:      \")\n",
    "\n",
    "# queries data from experiment\n",
    "exp = query_experiment_data(exp_name)\n",
    "\n",
    "# splits data into test and control buckets\n",
    "control, test = control_test_split(exp)\n",
    "\n",
    "# generates positive hits -- number of unique LVIDs that have placed inquiries\n",
    "generate_metrics(control, test)"
   ]
  },
  {
   "cell_type": "code",
   "execution_count": null,
   "metadata": {
    "ExecuteTime": {
     "end_time": "2016-08-16T16:10:59.454386",
     "start_time": "2016-08-16T16:10:53.065370"
    },
    "collapsed": false,
    "run_control": {
     "frozen": false,
     "read_only": false
    },
    "scrolled": false
   },
   "outputs": [],
   "source": [
    "p_A_samples, p_B_samples, delta_samples = credible_intervals(control, test)\n",
    "compare_posterior_distributions(p_A_samples, p_B_samples, delta_samples)"
   ]
  },
  {
   "cell_type": "code",
   "execution_count": null,
   "metadata": {
    "ExecuteTime": {
     "end_time": "2016-08-16T16:11:57.675714",
     "start_time": "2016-08-16T16:11:53.327159"
    },
    "collapsed": false,
    "run_control": {
     "frozen": false,
     "read_only": false
    }
   },
   "outputs": [],
   "source": [
    "# cumulative plots\n",
    "cumulative_plot(test, control)\n",
    "\n",
    "# daily plots\n",
    "daily_plot(test, control)"
   ]
  },
  {
   "cell_type": "code",
   "execution_count": null,
   "metadata": {
    "collapsed": true
   },
   "outputs": [],
   "source": []
  },
  {
   "cell_type": "code",
   "execution_count": null,
   "metadata": {
    "collapsed": true
   },
   "outputs": [],
   "source": []
  },
  {
   "cell_type": "code",
   "execution_count": null,
   "metadata": {
    "collapsed": true
   },
   "outputs": [],
   "source": []
  },
  {
   "cell_type": "code",
   "execution_count": null,
   "metadata": {
    "collapsed": true
   },
   "outputs": [],
   "source": []
  },
  {
   "cell_type": "code",
   "execution_count": null,
   "metadata": {
    "collapsed": true
   },
   "outputs": [],
   "source": []
  },
  {
   "cell_type": "code",
   "execution_count": null,
   "metadata": {
    "collapsed": true
   },
   "outputs": [],
   "source": []
  },
  {
   "cell_type": "code",
   "execution_count": null,
   "metadata": {
    "collapsed": true
   },
   "outputs": [],
   "source": []
  },
  {
   "cell_type": "code",
   "execution_count": null,
   "metadata": {
    "collapsed": true
   },
   "outputs": [],
   "source": []
  },
  {
   "cell_type": "code",
   "execution_count": null,
   "metadata": {
    "collapsed": true
   },
   "outputs": [],
   "source": []
  },
  {
   "cell_type": "code",
   "execution_count": null,
   "metadata": {
    "collapsed": true
   },
   "outputs": [],
   "source": []
  },
  {
   "cell_type": "code",
   "execution_count": null,
   "metadata": {
    "collapsed": true
   },
   "outputs": [],
   "source": []
  },
  {
   "cell_type": "code",
   "execution_count": null,
   "metadata": {
    "ExecuteTime": {
     "end_time": "2016-08-16T16:11:58.096481",
     "start_time": "2016-08-16T16:11:57.677656"
    },
    "collapsed": false,
    "run_control": {
     "frozen": false,
     "read_only": false
    }
   },
   "outputs": [],
   "source": [
    "fig, axes = plt.subplots(nrows=1, ncols=2, figsize=(14,4), sharex=True, sharey=True)\n",
    "plt.suptitle('Distribution of returning users', fontsize=20); \n",
    "plt.ylabel('count of users')\n",
    "plt.xlabel('count of sessions')\n",
    "\n",
    "control.session_number.astype(float).hist(ax=axes[0], bins=20,range=(0,50),alpha=0.5,color='b')\n",
    "plt.xlim([1,50])\n",
    "\n",
    "test.session_number.astype(float).hist(ax=axes[1], bins=20,range=(0,50),alpha=0.5,color='r')\n",
    "plt.xlim([1,50])"
   ]
  },
  {
   "cell_type": "code",
   "execution_count": null,
   "metadata": {
    "collapsed": false,
    "run_control": {
     "frozen": false,
     "read_only": false
    }
   },
   "outputs": [],
   "source": [
    "fig, axes = plt.subplots(nrows=1, ncols=2, figsize=(14,4))\n",
    "\n",
    "test_sums = test.loc[test.session_number==1].groupby('looker_visitor_id')[['count_artwork_pv', 'inquiries']].sum()\n",
    "test_sums.inquiries.sort_values(ascending=False).head(50).hist(ax=axes[0], figsize=(13,5), alpha=0.5, color='r')\n",
    "test_sums.count_artwork_pv.sort_values(ascending=False).head(50).hist(ax=axes[1], figsize=(13,5), alpha=0.5, color='r')\n",
    "\n",
    "plt.suptitle('First Session - Inquiries (Left) and Artwork Pageviews (Right) for Top 50 Descending', fontsize=20); "
   ]
  },
  {
   "cell_type": "code",
   "execution_count": null,
   "metadata": {
    "collapsed": false,
    "run_control": {
     "frozen": false,
     "read_only": false
    }
   },
   "outputs": [],
   "source": [
    "print 'control: ', control[control.purchases>0][['looker_visitor_id','count_pv','total_purchase_price']]\n",
    "print 'test:    ', test[test.purchases>0][['looker_visitor_id','count_pv','total_purchase_price']]"
   ]
  },
  {
   "cell_type": "code",
   "execution_count": null,
   "metadata": {
    "collapsed": false,
    "run_control": {
     "frozen": false,
     "read_only": false
    }
   },
   "outputs": [],
   "source": [
    "exp_logged_status = sql(\"\"\"\n",
    "    SELECT exp.variation_id,\n",
    "           fins.*,\n",
    "           SPLIT_PART(fins.session_id,' - ',1) as session_number,\n",
    "           afmps.logged_in\n",
    "    FROM (SELECT DISTINCT session_id,\n",
    "                 variation_id,\n",
    "                 experiment_id\n",
    "          FROM analytics.force_mapped_experiment_viewed afmev\n",
    "          WHERE afmev.experiment_id = '%s') exp\n",
    "      LEFT JOIN analytics.force_inquiry_funnel_sessions fins\n",
    "             ON exp.session_id = fins.session_id\n",
    "            AND exp.variation_id is not null\n",
    "      LEFT JOIN (select distinct session_id,\n",
    "                        logged_in\n",
    "                from analytics.force_mapped_pages) afmps\n",
    "                on afmps.session_id = fins.session_id\n",
    "    WHERE (session_start_at >= '%s' AND session_start_at <= '%s') LIMIT 5000000\n",
    "\"\"\"%('personalized_homepage', '2016-07-21', '2016-08-09'))\n",
    "\n",
    "exp_logged_status['date'] = exp_logged_status.session_start_at.values.astype('datetime64[D]')\n",
    "exp_logged_status['outcome'] = (exp_logged_status.inquiries > 0).astype('int')\n",
    "exp_logged_status = exp_logged_status.set_index('session_start_at').sort_index()"
   ]
  },
  {
   "cell_type": "code",
   "execution_count": null,
   "metadata": {
    "collapsed": false,
    "run_control": {
     "frozen": false,
     "read_only": false
    }
   },
   "outputs": [],
   "source": [
    "exp_logged_status.groupby('logged_in').sum()"
   ]
  },
  {
   "cell_type": "code",
   "execution_count": null,
   "metadata": {
    "collapsed": true,
    "run_control": {
     "frozen": false,
     "read_only": false
    }
   },
   "outputs": [],
   "source": [
    "control_logged_status = exp_logged_status.loc[exp_logged_status.variation_id.isin(defaults)]\n",
    "test_logged_status = exp_logged_status.loc[~exp_logged_status.variation_id.isin(defaults)]"
   ]
  },
  {
   "cell_type": "code",
   "execution_count": null,
   "metadata": {
    "collapsed": false,
    "run_control": {
     "frozen": false,
     "read_only": false
    }
   },
   "outputs": [],
   "source": [
    "control_logged_status.groupby('logged_in').sum()"
   ]
  },
  {
   "cell_type": "code",
   "execution_count": null,
   "metadata": {
    "collapsed": false,
    "run_control": {
     "frozen": false,
     "read_only": false
    }
   },
   "outputs": [],
   "source": [
    "test_logged_status.groupby('logged_in').sum()"
   ]
  },
  {
   "cell_type": "markdown",
   "metadata": {},
   "source": [
    "We have more purchases in the full data set - selecting distinct `session_id` from `force_mapped_pages` is filtering out information"
   ]
  },
  {
   "cell_type": "code",
   "execution_count": null,
   "metadata": {
    "collapsed": false,
    "run_control": {
     "frozen": false,
     "read_only": false
    }
   },
   "outputs": [],
   "source": [
    "control_logged_status.groupby(['logged_in','outcome']).sum()"
   ]
  },
  {
   "cell_type": "code",
   "execution_count": null,
   "metadata": {
    "collapsed": false,
    "run_control": {
     "frozen": false,
     "read_only": false
    }
   },
   "outputs": [],
   "source": [
    "test_logged_status.groupby(['logged_in','outcome']).sum()"
   ]
  },
  {
   "cell_type": "code",
   "execution_count": null,
   "metadata": {
    "collapsed": false,
    "run_control": {
     "frozen": false,
     "read_only": false
    }
   },
   "outputs": [],
   "source": [
    "exp_logged_status[exp_logged_status.session_id == '2 - 570c28658b3b817d2d003a14']"
   ]
  },
  {
   "cell_type": "code",
   "execution_count": null,
   "metadata": {
    "collapsed": false,
    "run_control": {
     "frozen": false,
     "read_only": false
    }
   },
   "outputs": [],
   "source": [
    "print 'total sessions in original df:              ', (25624.000000 + 25862.000000)\n",
    "print 'total sessions after considering logged-in: ', len(exp_logged_status)"
   ]
  },
  {
   "cell_type": "code",
   "execution_count": null,
   "metadata": {
    "collapsed": false,
    "run_control": {
     "frozen": false,
     "read_only": false
    }
   },
   "outputs": [],
   "source": [
    "control_logged_status.groupby(['logged_in','outcome','variation_id']).sum()"
   ]
  },
  {
   "cell_type": "code",
   "execution_count": null,
   "metadata": {
    "collapsed": false,
    "run_control": {
     "frozen": false,
     "read_only": false
    }
   },
   "outputs": [],
   "source": [
    "test_logged_status.groupby(['logged_in','outcome','variation_id']).sum()"
   ]
  },
  {
   "cell_type": "code",
   "execution_count": null,
   "metadata": {
    "collapsed": false,
    "run_control": {
     "frozen": false,
     "read_only": false
    }
   },
   "outputs": [],
   "source": [
    "both_logged = exp_logged_status.groupby('session_id').logged_in.nunique()"
   ]
  },
  {
   "cell_type": "code",
   "execution_count": null,
   "metadata": {
    "collapsed": false,
    "run_control": {
     "frozen": false,
     "read_only": false
    }
   },
   "outputs": [],
   "source": [
    "both_logged = both_logged[both_logged > 1]"
   ]
  },
  {
   "cell_type": "code",
   "execution_count": null,
   "metadata": {
    "collapsed": false,
    "run_control": {
     "frozen": false,
     "read_only": false
    }
   },
   "outputs": [],
   "source": [
    "len(both_logged)"
   ]
  },
  {
   "cell_type": "code",
   "execution_count": null,
   "metadata": {
    "collapsed": false,
    "run_control": {
     "frozen": false,
     "read_only": false
    }
   },
   "outputs": [],
   "source": [
    "exp_logged_status[exp_logged_status.session_id.isin(both_logged.index)]"
   ]
  },
  {
   "cell_type": "code",
   "execution_count": null,
   "metadata": {
    "collapsed": true,
    "run_control": {
     "frozen": false,
     "read_only": false
    }
   },
   "outputs": [],
   "source": []
  },
  {
   "cell_type": "code",
   "execution_count": null,
   "metadata": {
    "collapsed": true,
    "run_control": {
     "frozen": false,
     "read_only": false
    }
   },
   "outputs": [],
   "source": []
  },
  {
   "cell_type": "code",
   "execution_count": null,
   "metadata": {
    "collapsed": true,
    "run_control": {
     "frozen": false,
     "read_only": false
    }
   },
   "outputs": [],
   "source": []
  },
  {
   "cell_type": "code",
   "execution_count": null,
   "metadata": {
    "collapsed": true,
    "run_control": {
     "frozen": false,
     "read_only": false
    }
   },
   "outputs": [],
   "source": []
  },
  {
   "cell_type": "code",
   "execution_count": null,
   "metadata": {
    "collapsed": true,
    "run_control": {
     "frozen": false,
     "read_only": false
    }
   },
   "outputs": [],
   "source": []
  },
  {
   "cell_type": "code",
   "execution_count": null,
   "metadata": {
    "collapsed": true,
    "run_control": {
     "frozen": false,
     "read_only": false
    }
   },
   "outputs": [],
   "source": []
  },
  {
   "cell_type": "code",
   "execution_count": null,
   "metadata": {
    "collapsed": false,
    "run_control": {
     "frozen": false,
     "read_only": false
    }
   },
   "outputs": [],
   "source": [
    "sessions_during_exp = exp.groupby('looker_visitor_id').session_number.nunique()"
   ]
  },
  {
   "cell_type": "code",
   "execution_count": null,
   "metadata": {
    "collapsed": false,
    "run_control": {
     "frozen": false,
     "read_only": false
    }
   },
   "outputs": [],
   "source": [
    "len(sessions_during_exp)"
   ]
  },
  {
   "cell_type": "code",
   "execution_count": null,
   "metadata": {
    "collapsed": false,
    "run_control": {
     "frozen": false,
     "read_only": false
    }
   },
   "outputs": [],
   "source": [
    "for i in range(1,21):\n",
    "    print '# users with %s sessions: '%i , len(sessions_during_exp[sessions_during_exp == i])"
   ]
  },
  {
   "cell_type": "code",
   "execution_count": null,
   "metadata": {
    "collapsed": false,
    "run_control": {
     "frozen": false,
     "read_only": false
    }
   },
   "outputs": [],
   "source": [
    "for i in range(0,21):\n",
    "    print '# users with more than %s sessions: '%i , len(sessions_during_exp[sessions_during_exp > i])"
   ]
  },
  {
   "cell_type": "code",
   "execution_count": null,
   "metadata": {
    "collapsed": false,
    "run_control": {
     "frozen": false,
     "read_only": false
    }
   },
   "outputs": [],
   "source": [
    "pd.Series([len(sessions_during_exp[sessions_during_exp > i]) for i in range(1,22)]).plot(kind='bar',\n",
    "                                                                                         color='plum',\n",
    "                                                                                         alpha=0.5)"
   ]
  },
  {
   "cell_type": "code",
   "execution_count": null,
   "metadata": {
    "collapsed": true,
    "run_control": {
     "frozen": false,
     "read_only": false
    }
   },
   "outputs": [],
   "source": []
  },
  {
   "cell_type": "code",
   "execution_count": null,
   "metadata": {
    "collapsed": true,
    "run_control": {
     "frozen": false,
     "read_only": false
    }
   },
   "outputs": [],
   "source": []
  },
  {
   "cell_type": "markdown",
   "metadata": {},
   "source": [
    "# change the value below to compare"
   ]
  },
  {
   "cell_type": "code",
   "execution_count": null,
   "metadata": {
    "collapsed": true,
    "run_control": {
     "frozen": false,
     "read_only": false
    }
   },
   "outputs": [],
   "source": [
    "more_than_one_session = sessions_during_exp[sessions_during_exp > 5]"
   ]
  },
  {
   "cell_type": "code",
   "execution_count": null,
   "metadata": {
    "collapsed": false,
    "run_control": {
     "frozen": false,
     "read_only": false
    }
   },
   "outputs": [],
   "source": [
    "len(more_than_one_session)"
   ]
  },
  {
   "cell_type": "code",
   "execution_count": null,
   "metadata": {
    "collapsed": false,
    "run_control": {
     "frozen": false,
     "read_only": false
    }
   },
   "outputs": [],
   "source": [
    "df_multi_sessions = exp[exp.looker_visitor_id.isin(more_than_one_session.index)]"
   ]
  },
  {
   "cell_type": "code",
   "execution_count": null,
   "metadata": {
    "collapsed": true,
    "run_control": {
     "frozen": false,
     "read_only": false
    }
   },
   "outputs": [],
   "source": [
    "defaults = ['default', 'original',\n",
    "            'old_homepage_1', 'old_homepage_2', 'old_homepage_3', 'old_homepage_4', 'old_homepage_5']"
   ]
  },
  {
   "cell_type": "code",
   "execution_count": null,
   "metadata": {
    "collapsed": false,
    "run_control": {
     "frozen": false,
     "read_only": false
    }
   },
   "outputs": [],
   "source": [
    "control_more_than_one_session = df_multi_sessions[df_multi_sessions.variation_id.isin(defaults)]"
   ]
  },
  {
   "cell_type": "code",
   "execution_count": null,
   "metadata": {
    "collapsed": false,
    "run_control": {
     "frozen": false,
     "read_only": false
    }
   },
   "outputs": [],
   "source": [
    "test_more_than_one_session = df_multi_sessions[~df_multi_sessions.variation_id.isin(defaults)]"
   ]
  },
  {
   "cell_type": "code",
   "execution_count": null,
   "metadata": {
    "collapsed": false,
    "run_control": {
     "frozen": false,
     "read_only": false
    }
   },
   "outputs": [],
   "source": [
    "control_more_than_one_session[control_more_than_one_session.session_number > 50]._get_numeric_data().mean()"
   ]
  },
  {
   "cell_type": "code",
   "execution_count": null,
   "metadata": {
    "collapsed": false,
    "run_control": {
     "frozen": false,
     "read_only": false
    }
   },
   "outputs": [],
   "source": [
    "test_more_than_one_session[test_more_than_one_session.session_number > 50]._get_numeric_data().mean()"
   ]
  },
  {
   "cell_type": "code",
   "execution_count": null,
   "metadata": {
    "collapsed": false,
    "run_control": {
     "frozen": false,
     "read_only": false
    }
   },
   "outputs": [],
   "source": [
    "control_more_than_one_session._get_numeric_data().mean()"
   ]
  },
  {
   "cell_type": "code",
   "execution_count": null,
   "metadata": {
    "collapsed": false,
    "run_control": {
     "frozen": false,
     "read_only": false
    }
   },
   "outputs": [],
   "source": [
    "test_more_than_one_session._get_numeric_data().mean()"
   ]
  },
  {
   "cell_type": "code",
   "execution_count": null,
   "metadata": {
    "collapsed": false,
    "run_control": {
     "frozen": false,
     "read_only": false
    }
   },
   "outputs": [],
   "source": [
    "control_more_than_one_session.exit_page_path.value_counts()[control_more_than_one_session.exit_page_path.value_counts()>=15]"
   ]
  },
  {
   "cell_type": "code",
   "execution_count": null,
   "metadata": {
    "collapsed": false,
    "run_control": {
     "frozen": false,
     "read_only": false
    }
   },
   "outputs": [],
   "source": [
    "test_more_than_one_session.exit_page_path.value_counts()[test_more_than_one_session.exit_page_path.value_counts()>=15]"
   ]
  },
  {
   "cell_type": "code",
   "execution_count": null,
   "metadata": {
    "collapsed": false,
    "run_control": {
     "frozen": false,
     "read_only": false
    }
   },
   "outputs": [],
   "source": [
    "homepage_pv = sql(\"\"\"\n",
    "SELECT sent_at::DATE,\n",
    "       looker_visitor_id,\n",
    "       logged_in, --might not be necessary\n",
    "       COUNT(*)\n",
    "FROM analytics.force_pages\n",
    "WHERE (event IN ('/','')\n",
    "OR    event IS NULL)\n",
    "AND sent_at >= '2016-07-21'\n",
    "GROUP BY 1,\n",
    "         2,\n",
    "         3  --might not be necessary\n",
    "ORDER BY sent_at::DATE DESC\n",
    "\"\"\")"
   ]
  },
  {
   "cell_type": "code",
   "execution_count": null,
   "metadata": {
    "collapsed": true,
    "run_control": {
     "frozen": false,
     "read_only": false
    }
   },
   "outputs": [],
   "source": [
    "homepage_pv.sent_at = homepage_pv.sent_at.values.astype('datetime64[D]')"
   ]
  },
  {
   "cell_type": "code",
   "execution_count": null,
   "metadata": {
    "collapsed": false,
    "run_control": {
     "frozen": false,
     "read_only": false
    }
   },
   "outputs": [],
   "source": [
    "control.date.head()"
   ]
  },
  {
   "cell_type": "code",
   "execution_count": null,
   "metadata": {
    "collapsed": false,
    "run_control": {
     "frozen": false,
     "read_only": false
    }
   },
   "outputs": [],
   "source": [
    "homepage_pv.head()"
   ]
  },
  {
   "cell_type": "code",
   "execution_count": null,
   "metadata": {
    "collapsed": false,
    "run_control": {
     "frozen": false,
     "read_only": false
    }
   },
   "outputs": [],
   "source": [
    "control_with_homepage = pd.merge(control, homepage_pv, how='left', left_on=['date', 'looker_visitor_id'], right_on=['sent_at','looker_visitor_id'])\n",
    "test_with_homepage    = pd.merge(test, homepage_pv, how ='left', left_on=['date', 'looker_visitor_id'], right_on=['sent_at','looker_visitor_id'])"
   ]
  },
  {
   "cell_type": "code",
   "execution_count": null,
   "metadata": {
    "collapsed": false,
    "run_control": {
     "frozen": false,
     "read_only": false
    }
   },
   "outputs": [],
   "source": [
    "# control_with_homepage = pd.merge(control, homepage_pv, how='left', on='looker_visitor_id')\n",
    "# test_with_homepage    = pd.merge(test, homepage_pv, how ='left', on='looker_visitor_id')"
   ]
  },
  {
   "cell_type": "code",
   "execution_count": null,
   "metadata": {
    "collapsed": false,
    "run_control": {
     "frozen": false,
     "read_only": false
    }
   },
   "outputs": [],
   "source": [
    "control_with_homepage.groupby('looker_visitor_id').sum().mean()"
   ]
  },
  {
   "cell_type": "code",
   "execution_count": null,
   "metadata": {
    "collapsed": false,
    "run_control": {
     "frozen": false,
     "read_only": false
    }
   },
   "outputs": [],
   "source": [
    "test_with_homepage.groupby('looker_visitor_id').sum().mean()"
   ]
  },
  {
   "cell_type": "code",
   "execution_count": null,
   "metadata": {
    "collapsed": false,
    "run_control": {
     "frozen": false,
     "read_only": false
    }
   },
   "outputs": [],
   "source": [
    "control_homepage_more_than_one_session = pd.merge(control_more_than_one_session, homepage_pv, how='left', left_on=['date', 'looker_visitor_id'], right_on=['sent_at','looker_visitor_id'])\n",
    "test_homepage_more_than_one_session = pd.merge(test_more_than_one_session, homepage_pv, how='left', left_on=['date', 'looker_visitor_id'], right_on=['sent_at','looker_visitor_id'])"
   ]
  },
  {
   "cell_type": "code",
   "execution_count": null,
   "metadata": {
    "collapsed": false,
    "run_control": {
     "frozen": false,
     "read_only": false
    }
   },
   "outputs": [],
   "source": [
    "test_with_homepage.looker_visitor_id.nunique()"
   ]
  },
  {
   "cell_type": "code",
   "execution_count": null,
   "metadata": {
    "collapsed": true,
    "run_control": {
     "frozen": false,
     "read_only": false
    }
   },
   "outputs": [],
   "source": []
  },
  {
   "cell_type": "code",
   "execution_count": null,
   "metadata": {
    "collapsed": false,
    "run_control": {
     "frozen": false,
     "read_only": false
    }
   },
   "outputs": [],
   "source": [
    "print len(control_homepage_more_than_one_session)\n",
    "print len(test_homepage_more_than_one_session)"
   ]
  },
  {
   "cell_type": "code",
   "execution_count": null,
   "metadata": {
    "collapsed": false,
    "run_control": {
     "frozen": false,
     "read_only": false
    }
   },
   "outputs": [],
   "source": [
    "control_homepage_more_than_one_session.groupby('looker_visitor_id').sum().mean()"
   ]
  },
  {
   "cell_type": "code",
   "execution_count": null,
   "metadata": {
    "collapsed": false,
    "run_control": {
     "frozen": false,
     "read_only": false
    }
   },
   "outputs": [],
   "source": [
    "test_homepage_more_than_one_session.groupby('looker_visitor_id').sum().mean()"
   ]
  },
  {
   "cell_type": "code",
   "execution_count": null,
   "metadata": {
    "collapsed": false,
    "run_control": {
     "frozen": false,
     "read_only": false
    }
   },
   "outputs": [],
   "source": [
    "control_homepage_more_than_one_session[control_homepage_more_than_one_session.logged_in==False].groupby('looker_visitor_id').sum().mean()"
   ]
  },
  {
   "cell_type": "code",
   "execution_count": null,
   "metadata": {
    "collapsed": false,
    "run_control": {
     "frozen": false,
     "read_only": false
    }
   },
   "outputs": [],
   "source": [
    "test_homepage_more_than_one_session[test_homepage_more_than_one_session.logged_in==False].groupby('looker_visitor_id').sum().mean()"
   ]
  },
  {
   "cell_type": "code",
   "execution_count": null,
   "metadata": {
    "collapsed": false,
    "run_control": {
     "frozen": false,
     "read_only": false
    }
   },
   "outputs": [],
   "source": [
    "control_homepage_more_than_one_session[control_homepage_more_than_one_session.logged_in==True].groupby('looker_visitor_id').sum().mean()"
   ]
  },
  {
   "cell_type": "code",
   "execution_count": null,
   "metadata": {
    "collapsed": false,
    "run_control": {
     "frozen": false,
     "read_only": false
    }
   },
   "outputs": [],
   "source": [
    "test_homepage_more_than_one_session[test_homepage_more_than_one_session.logged_in==True].groupby('looker_visitor_id').sum().mean()"
   ]
  },
  {
   "cell_type": "code",
   "execution_count": null,
   "metadata": {
    "collapsed": false,
    "run_control": {
     "frozen": false,
     "read_only": false
    }
   },
   "outputs": [],
   "source": [
    "test_session_logged_in = test_homepage_more_than_one_session[test_homepage_more_than_one_session.logged_in==True][test_homepage_more_than_one_session.session_number>50]"
   ]
  },
  {
   "cell_type": "code",
   "execution_count": null,
   "metadata": {
    "collapsed": false,
    "run_control": {
     "frozen": false,
     "read_only": false
    }
   },
   "outputs": [],
   "source": [
    "test_session_logged_in.groupby('looker_visitor_id').sum().mean()"
   ]
  },
  {
   "cell_type": "code",
   "execution_count": null,
   "metadata": {
    "collapsed": true,
    "run_control": {
     "frozen": false,
     "read_only": false
    }
   },
   "outputs": [],
   "source": []
  },
  {
   "cell_type": "code",
   "execution_count": null,
   "metadata": {
    "collapsed": true,
    "run_control": {
     "frozen": false,
     "read_only": false
    }
   },
   "outputs": [],
   "source": []
  }
 ],
 "metadata": {
  "hide_input": false,
  "kernelspec": {
   "display_name": "Python 2",
   "language": "python",
   "name": "python2"
  },
  "language_info": {
   "codemirror_mode": {
    "name": "ipython",
    "version": 2
   },
   "file_extension": ".py",
   "mimetype": "text/x-python",
   "name": "python",
   "nbconvert_exporter": "python",
   "pygments_lexer": "ipython2",
   "version": "2.7.12"
  },
  "widgets": {
   "state": {},
   "version": "1.1.2"
  }
 },
 "nbformat": 4,
 "nbformat_minor": 0
}
